{
 "cells": [
  {
   "cell_type": "markdown",
   "metadata": {},
   "source": [
    "# All Models on Subsets Dataset\n",
    " - We suspect that our modified dataset will yield better results than the 'raw' normalized dataset. In this notebook we will investigate this"
   ]
  },
  {
   "cell_type": "code",
   "execution_count": 1,
   "metadata": {},
   "outputs": [
    {
     "name": "stderr",
     "output_type": "stream",
     "text": [
      "Using TensorFlow backend.\n"
     ]
    }
   ],
   "source": [
    "#required imports and dependencies\n",
    "\n",
    "import pandas as pd\n",
    "import numpy as np \n",
    "import warnings \n",
    "warnings.filterwarnings(\"ignore\")\n",
    "from sklearn import preprocessing\n",
    "from keras import Sequential\n",
    "from keras.layers import Embedding, Dense, Dropout, LSTM, Flatten\n",
    "from keras.metrics import *\n",
    "from sklearn.feature_selection import SelectKBest\n",
    "from sklearn.feature_selection import chi2\n",
    "from sklearn.linear_model import *\n",
    "from sklearn.ensemble import RandomForestClassifier\n",
    "from sklearn.svm import SVC\n",
    "\n",
    "\n",
    "\n",
    "#our own confusion matrix module that we developed\n",
    "import cmatrix as cm\n",
    "\n",
    "#load data into data frames\n",
    "xlsPath = r'C:\\Users\\Daniel Patrick\\Documents\\uniwork\\ada\\ada2\\Subsets.xlsx'\n",
    "data = pd.read_excel(xlsPath)\n",
    "\n",
    "#split into data and class variable\n",
    "X = data.drop(['date','price increase tomorrow?'], axis =1)\n",
    "class_var = data['price increase tomorrow?']\n",
    "\n",
    "\n",
    "#perform normalization on data \n",
    "min_max_scaler = preprocessing.MinMaxScaler()\n",
    "for column in X:\n",
    "    X[column] = min_max_scaler.fit_transform(X[column].values.reshape(-1,1))\n",
    "\n",
    "#implementation of the wavelet transform\n",
    "import pywt\n",
    "import statistics\n",
    "for column in X:\n",
    "    coeff = pywt.wavedec(X[column], \"haar\", level=10)\n",
    "    sigma = statistics.median(coeff[-1])/0.6745\n",
    "    threshold = sigma*np.sqrt(2*np.log(len(X[column])))\n",
    "    coeff[1:] = (pywt.threshold(i, value=threshold) for i in coeff[1:])\n",
    "    X[column] = pywt.waverec(coeff, \"haar\")\n",
    "\n",
    "#select dimensions to reduce to \n",
    "inputDims = 3\n",
    "attributes = SelectKBest(chi2, k=inputDims).fit_transform(X,class_var)\n",
    "\n",
    "\n",
    "#Create a train test split\n",
    "split_number = round(len(data)*0.97)\n",
    "train_attributes,train_class_var,test_attributes,test_class_var = \\\n",
    "attributes[:split_number],class_var[:split_number], \\\n",
    "attributes[split_number:],class_var[split_number:]\n",
    "\n"
   ]
  },
  {
   "cell_type": "code",
   "execution_count": 2,
   "metadata": {},
   "outputs": [],
   "source": [
    "def sequentialNN(train_attributes,train_class_var,test_attributes,test_class_var):\n",
    "    \n",
    "    model = Sequential()\n",
    "    # The imput dim here is the number of cols in the df getting fed into the model\n",
    "    model.add(Dense(64, input_dim=inputDims, activation='relu'))\n",
    "    model.add(Dropout(0.5))\n",
    "    model.add(Dense(256, activation='relu'))\n",
    "    model.add(Dropout(0.25))\n",
    "    model.add(Dense(32, activation='relu'))\n",
    "    model.add(Dense(1, activation='sigmoid'))\n",
    "\n",
    "    model.compile(loss='binary_crossentropy',\n",
    "                  optimizer='rmsprop',\n",
    "                  metrics=['accuracy'])\n",
    "\n",
    "\n",
    "    model.summary()\n",
    "\n",
    "    model.fit(train_attributes, train_class_var,\n",
    "             epochs=250, verbose=0, batch_size=128)\n",
    "\n",
    "    #the predict_classes method returns the binary variable we're looking for\n",
    "    # for some reason it doesn't output the correct array type, made a 2D array\n",
    "    pred = model.predict_classes(test_attributes)\n",
    "\n",
    "    #the flatten method solves this and squashes to a 1D array for evaluation\n",
    "    predictions = pred.flatten()\n",
    "\n",
    "    #be sure to import our cmatrix module\n",
    "    cmat = cm.cmatrix(test_class_var, predictions)\n",
    "    \n",
    "    model.reset_states()\n",
    "    return cmat\n",
    "\n",
    "\n"
   ]
  },
  {
   "cell_type": "code",
   "execution_count": 3,
   "metadata": {},
   "outputs": [],
   "source": [
    "def logRegression(train_attributes,train_class_var,test_attributes,\n",
    "                  test_class_var):\n",
    "    \n",
    "    #Below is the list of hyper-parameters which produced\n",
    "    #the best results\n",
    "    logreg = LogisticRegression(penalty='l2', dual=False, tol=0.0001, \n",
    "                C=1.0, fit_intercept=True, solver='liblinear')\n",
    "    logreg.fit(train_attributes, train_class_var)\n",
    "    predictions = logreg.predict(test_attributes)\n",
    "    \n",
    "    cmat = cm.cmatrix(test_class_var, predictions)\n",
    "    return cmat"
   ]
  },
  {
   "cell_type": "code",
   "execution_count": 4,
   "metadata": {},
   "outputs": [],
   "source": [
    "def randomForest(train_attributes,train_class_var,test_attributes,test_class_var):\n",
    "    \n",
    "    random_forest = RandomForestClassifier(n_estimators=20)\n",
    "    random_forest.fit(train_attributes, train_class_var)\n",
    "    predictions = random_forest.predict(test_attributes)\n",
    "    \n",
    "    cmat = cm.cmatrix(test_class_var, predictions)\n",
    "    return cmat"
   ]
  },
  {
   "cell_type": "code",
   "execution_count": 5,
   "metadata": {},
   "outputs": [],
   "source": [
    "def svc(train_attributes,train_class_var,test_attributes,test_class_var):\n",
    "    \n",
    "    svc = SVC()\n",
    "    svc.fit(train_attributes, train_class_var)\n",
    "    predictions = svc.predict(test_attributes)\n",
    "    \n",
    "    cmat = cm.cmatrix(test_class_var, predictions)\n",
    "    return cmat\n",
    "    "
   ]
  },
  {
   "cell_type": "code",
   "execution_count": 6,
   "metadata": {},
   "outputs": [],
   "source": [
    "def perceptron(train_attributes,train_class_var,test_attributes,test_class_var):\n",
    "    \n",
    "    perceptron = Perceptron()\n",
    "    perceptron.fit(train_attributes, train_class_var)\n",
    "    predictions = perceptron.predict(test_attributes)\n",
    "    \n",
    "    cmat = cm.cmatrix(test_class_var, predictions)\n",
    "    return cmat"
   ]
  },
  {
   "cell_type": "code",
   "execution_count": 7,
   "metadata": {},
   "outputs": [
    {
     "name": "stdout",
     "output_type": "stream",
     "text": [
      "_________________________________________________________________\n",
      "Layer (type)                 Output Shape              Param #   \n",
      "=================================================================\n",
      "dense_1 (Dense)              (None, 64)                256       \n",
      "_________________________________________________________________\n",
      "dropout_1 (Dropout)          (None, 64)                0         \n",
      "_________________________________________________________________\n",
      "dense_2 (Dense)              (None, 256)               16640     \n",
      "_________________________________________________________________\n",
      "dropout_2 (Dropout)          (None, 256)               0         \n",
      "_________________________________________________________________\n",
      "dense_3 (Dense)              (None, 32)                8224      \n",
      "_________________________________________________________________\n",
      "dense_4 (Dense)              (None, 1)                 33        \n",
      "=================================================================\n",
      "Total params: 25,153\n",
      "Trainable params: 25,153\n",
      "Non-trainable params: 0\n",
      "_________________________________________________________________\n",
      "accuracy = 0.574468085106383 : How many did we get correct?\n",
      "precision = 0.6 : When we predict an increase, how often are we correct?\n",
      "recall = 0.5 : How many of the increases did we \"detect\"?\n"
     ]
    },
    {
     "data": {
      "text/html": [
       "<div>\n",
       "<style scoped>\n",
       "    .dataframe tbody tr th:only-of-type {\n",
       "        vertical-align: middle;\n",
       "    }\n",
       "\n",
       "    .dataframe tbody tr th {\n",
       "        vertical-align: top;\n",
       "    }\n",
       "\n",
       "    .dataframe thead th {\n",
       "        text-align: right;\n",
       "    }\n",
       "</style>\n",
       "<table border=\"1\" class=\"dataframe\">\n",
       "  <thead>\n",
       "    <tr style=\"text-align: right;\">\n",
       "      <th>Predicted</th>\n",
       "      <th>0</th>\n",
       "      <th>1</th>\n",
       "    </tr>\n",
       "    <tr>\n",
       "      <th>Actual</th>\n",
       "      <th></th>\n",
       "      <th></th>\n",
       "    </tr>\n",
       "  </thead>\n",
       "  <tbody>\n",
       "    <tr>\n",
       "      <th>0</th>\n",
       "      <td>15</td>\n",
       "      <td>8</td>\n",
       "    </tr>\n",
       "    <tr>\n",
       "      <th>1</th>\n",
       "      <td>12</td>\n",
       "      <td>12</td>\n",
       "    </tr>\n",
       "  </tbody>\n",
       "</table>\n",
       "</div>"
      ],
      "text/plain": [
       "Predicted   0   1\n",
       "Actual           \n",
       "0          15   8\n",
       "1          12  12"
      ]
     },
     "execution_count": 7,
     "metadata": {},
     "output_type": "execute_result"
    }
   ],
   "source": [
    "sequentialNN(train_attributes,train_class_var,test_attributes,test_class_var)"
   ]
  },
  {
   "cell_type": "code",
   "execution_count": 8,
   "metadata": {},
   "outputs": [
    {
     "name": "stdout",
     "output_type": "stream",
     "text": [
      "accuracy = 0.6808510638297872 : How many did we get correct?\n",
      "precision = 0.6285714285714286 : When we predict an increase, how often are we correct?\n",
      "recall = 0.9166666666666666 : How many of the increases did we \"detect\"?\n"
     ]
    },
    {
     "data": {
      "text/html": [
       "<div>\n",
       "<style scoped>\n",
       "    .dataframe tbody tr th:only-of-type {\n",
       "        vertical-align: middle;\n",
       "    }\n",
       "\n",
       "    .dataframe tbody tr th {\n",
       "        vertical-align: top;\n",
       "    }\n",
       "\n",
       "    .dataframe thead th {\n",
       "        text-align: right;\n",
       "    }\n",
       "</style>\n",
       "<table border=\"1\" class=\"dataframe\">\n",
       "  <thead>\n",
       "    <tr style=\"text-align: right;\">\n",
       "      <th>Predicted</th>\n",
       "      <th>0</th>\n",
       "      <th>1</th>\n",
       "    </tr>\n",
       "    <tr>\n",
       "      <th>Actual</th>\n",
       "      <th></th>\n",
       "      <th></th>\n",
       "    </tr>\n",
       "  </thead>\n",
       "  <tbody>\n",
       "    <tr>\n",
       "      <th>0</th>\n",
       "      <td>10</td>\n",
       "      <td>13</td>\n",
       "    </tr>\n",
       "    <tr>\n",
       "      <th>1</th>\n",
       "      <td>2</td>\n",
       "      <td>22</td>\n",
       "    </tr>\n",
       "  </tbody>\n",
       "</table>\n",
       "</div>"
      ],
      "text/plain": [
       "Predicted   0   1\n",
       "Actual           \n",
       "0          10  13\n",
       "1           2  22"
      ]
     },
     "execution_count": 8,
     "metadata": {},
     "output_type": "execute_result"
    }
   ],
   "source": [
    "logRegression(train_attributes,train_class_var,test_attributes,test_class_var)"
   ]
  },
  {
   "cell_type": "code",
   "execution_count": 9,
   "metadata": {},
   "outputs": [
    {
     "name": "stdout",
     "output_type": "stream",
     "text": [
      "The model only predicted 1s\n",
      "accuracy/precision = 0.5106382978723404\n"
     ]
    },
    {
     "data": {
      "text/html": [
       "<div>\n",
       "<style scoped>\n",
       "    .dataframe tbody tr th:only-of-type {\n",
       "        vertical-align: middle;\n",
       "    }\n",
       "\n",
       "    .dataframe tbody tr th {\n",
       "        vertical-align: top;\n",
       "    }\n",
       "\n",
       "    .dataframe thead th {\n",
       "        text-align: right;\n",
       "    }\n",
       "</style>\n",
       "<table border=\"1\" class=\"dataframe\">\n",
       "  <thead>\n",
       "    <tr style=\"text-align: right;\">\n",
       "      <th>Predicted</th>\n",
       "      <th>1</th>\n",
       "    </tr>\n",
       "    <tr>\n",
       "      <th>Actual</th>\n",
       "      <th></th>\n",
       "    </tr>\n",
       "  </thead>\n",
       "  <tbody>\n",
       "    <tr>\n",
       "      <th>0</th>\n",
       "      <td>23</td>\n",
       "    </tr>\n",
       "    <tr>\n",
       "      <th>1</th>\n",
       "      <td>24</td>\n",
       "    </tr>\n",
       "  </tbody>\n",
       "</table>\n",
       "</div>"
      ],
      "text/plain": [
       "Predicted   1\n",
       "Actual       \n",
       "0          23\n",
       "1          24"
      ]
     },
     "execution_count": 9,
     "metadata": {},
     "output_type": "execute_result"
    }
   ],
   "source": [
    "perceptron(train_attributes,train_class_var,test_attributes,test_class_var)"
   ]
  },
  {
   "cell_type": "code",
   "execution_count": 10,
   "metadata": {},
   "outputs": [
    {
     "name": "stdout",
     "output_type": "stream",
     "text": [
      "accuracy = 0.425531914893617 : How many did we get correct?\n",
      "precision = 0.42857142857142855 : When we predict an increase, how often are we correct?\n",
      "recall = 0.375 : How many of the increases did we \"detect\"?\n"
     ]
    },
    {
     "data": {
      "text/html": [
       "<div>\n",
       "<style scoped>\n",
       "    .dataframe tbody tr th:only-of-type {\n",
       "        vertical-align: middle;\n",
       "    }\n",
       "\n",
       "    .dataframe tbody tr th {\n",
       "        vertical-align: top;\n",
       "    }\n",
       "\n",
       "    .dataframe thead th {\n",
       "        text-align: right;\n",
       "    }\n",
       "</style>\n",
       "<table border=\"1\" class=\"dataframe\">\n",
       "  <thead>\n",
       "    <tr style=\"text-align: right;\">\n",
       "      <th>Predicted</th>\n",
       "      <th>0</th>\n",
       "      <th>1</th>\n",
       "    </tr>\n",
       "    <tr>\n",
       "      <th>Actual</th>\n",
       "      <th></th>\n",
       "      <th></th>\n",
       "    </tr>\n",
       "  </thead>\n",
       "  <tbody>\n",
       "    <tr>\n",
       "      <th>0</th>\n",
       "      <td>11</td>\n",
       "      <td>12</td>\n",
       "    </tr>\n",
       "    <tr>\n",
       "      <th>1</th>\n",
       "      <td>15</td>\n",
       "      <td>9</td>\n",
       "    </tr>\n",
       "  </tbody>\n",
       "</table>\n",
       "</div>"
      ],
      "text/plain": [
       "Predicted   0   1\n",
       "Actual           \n",
       "0          11  12\n",
       "1          15   9"
      ]
     },
     "execution_count": 10,
     "metadata": {},
     "output_type": "execute_result"
    }
   ],
   "source": [
    "randomForest(train_attributes,train_class_var,test_attributes,test_class_var)"
   ]
  },
  {
   "cell_type": "code",
   "execution_count": 11,
   "metadata": {},
   "outputs": [
    {
     "name": "stdout",
     "output_type": "stream",
     "text": [
      "The model only predicted 1s\n",
      "accuracy/precision = 0.5106382978723404\n"
     ]
    },
    {
     "data": {
      "text/html": [
       "<div>\n",
       "<style scoped>\n",
       "    .dataframe tbody tr th:only-of-type {\n",
       "        vertical-align: middle;\n",
       "    }\n",
       "\n",
       "    .dataframe tbody tr th {\n",
       "        vertical-align: top;\n",
       "    }\n",
       "\n",
       "    .dataframe thead th {\n",
       "        text-align: right;\n",
       "    }\n",
       "</style>\n",
       "<table border=\"1\" class=\"dataframe\">\n",
       "  <thead>\n",
       "    <tr style=\"text-align: right;\">\n",
       "      <th>Predicted</th>\n",
       "      <th>1</th>\n",
       "    </tr>\n",
       "    <tr>\n",
       "      <th>Actual</th>\n",
       "      <th></th>\n",
       "    </tr>\n",
       "  </thead>\n",
       "  <tbody>\n",
       "    <tr>\n",
       "      <th>0</th>\n",
       "      <td>23</td>\n",
       "    </tr>\n",
       "    <tr>\n",
       "      <th>1</th>\n",
       "      <td>24</td>\n",
       "    </tr>\n",
       "  </tbody>\n",
       "</table>\n",
       "</div>"
      ],
      "text/plain": [
       "Predicted   1\n",
       "Actual       \n",
       "0          23\n",
       "1          24"
      ]
     },
     "execution_count": 11,
     "metadata": {},
     "output_type": "execute_result"
    }
   ],
   "source": [
    "svc(train_attributes,train_class_var,test_attributes,test_class_var)"
   ]
  },
  {
   "cell_type": "code",
   "execution_count": null,
   "metadata": {},
   "outputs": [],
   "source": []
  },
  {
   "cell_type": "code",
   "execution_count": null,
   "metadata": {},
   "outputs": [],
   "source": []
  }
 ],
 "metadata": {
  "kernelspec": {
   "display_name": "Python 3",
   "language": "python",
   "name": "python3"
  },
  "language_info": {
   "codemirror_mode": {
    "name": "ipython",
    "version": 3
   },
   "file_extension": ".py",
   "mimetype": "text/x-python",
   "name": "python",
   "nbconvert_exporter": "python",
   "pygments_lexer": "ipython3",
   "version": "3.6.5"
  }
 },
 "nbformat": 4,
 "nbformat_minor": 2
}
