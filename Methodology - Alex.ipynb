{
 "cells": [
  {
   "cell_type": "markdown",
   "metadata": {},
   "source": [
    "<h2>Logistic Regression</h2>"
   ]
  },
  {
   "cell_type": "code",
   "execution_count": 61,
   "metadata": {},
   "outputs": [
    {
     "name": "stdout",
     "output_type": "stream",
     "text": [
      "accuracy = 0.532051282051282 : How many did we get correct?\n",
      "precision = 0.5901639344262295 : When we predict an increase, how often are we correct?\n",
      "recall = 0.42857142857142855 : How many of the increases did we \"detect\"?\n"
     ]
    },
    {
     "data": {
      "text/html": [
       "<div>\n",
       "<style scoped>\n",
       "    .dataframe tbody tr th:only-of-type {\n",
       "        vertical-align: middle;\n",
       "    }\n",
       "\n",
       "    .dataframe tbody tr th {\n",
       "        vertical-align: top;\n",
       "    }\n",
       "\n",
       "    .dataframe thead th {\n",
       "        text-align: right;\n",
       "    }\n",
       "</style>\n",
       "<table border=\"1\" class=\"dataframe\">\n",
       "  <thead>\n",
       "    <tr style=\"text-align: right;\">\n",
       "      <th>Predicted</th>\n",
       "      <th>0</th>\n",
       "      <th>1</th>\n",
       "    </tr>\n",
       "    <tr>\n",
       "      <th>Actual</th>\n",
       "      <th></th>\n",
       "      <th></th>\n",
       "    </tr>\n",
       "  </thead>\n",
       "  <tbody>\n",
       "    <tr>\n",
       "      <th>0</th>\n",
       "      <td>47</td>\n",
       "      <td>25</td>\n",
       "    </tr>\n",
       "    <tr>\n",
       "      <th>1</th>\n",
       "      <td>48</td>\n",
       "      <td>36</td>\n",
       "    </tr>\n",
       "  </tbody>\n",
       "</table>\n",
       "</div>"
      ],
      "text/plain": [
       "Predicted   0   1\n",
       "Actual           \n",
       "0          47  25\n",
       "1          48  36"
      ]
     },
     "execution_count": 61,
     "metadata": {},
     "output_type": "execute_result"
    }
   ],
   "source": [
    "import pandas as pd \n",
    "import numpy as np \n",
    "import seaborn as sns\n",
    "from sklearn.linear_model import LogisticRegression\n",
    "from sklearn.model_selection import train_test_split\n",
    "from sklearn import preprocessing\n",
    "import sys\n",
    "import warnings\n",
    "warnings.filterwarnings(\"ignore\")\n",
    "\n",
    "data = pd.read_excel(r'C:\\Temp\\final dataset.xlsx')\n",
    "### Attribute set 1:\n",
    "#attributes = data[['open','close','high','low','volume','etf open','etf close','s&p500 close',\n",
    "#                   's&p500 open','50 mda','200 mda','rsi','stochastic oscillator','williams']]\n",
    "### Attribute set 2:\n",
    "attributes = data[['close','volume','etf close','s&p500 close',\n",
    "                   '50 mda','200 mda','rsi','stochastic oscillator','williams']]\n",
    "class_var = data['price increase tomorrow?']\n",
    "\n",
    "### Comment/uncomment the below block to normalise the data\n",
    "min_max_scaler = preprocessing.MinMaxScaler()\n",
    "for column in attributes:\n",
    "    attributes[column] = min_max_scaler.fit_transform(attributes[column].values.reshape(-1,1))\n",
    "\n",
    "### Modify the split_number to change the train/test split. Use the first 1406 (which is 0.9*1562) for a 10% split.\n",
    "split_number = 1406\n",
    "train_attributes,train_class_var,test_attributes,test_class_var = attributes[:split_number],class_var[:split_number],attributes[split_number:],class_var[split_number:]\n",
    "\n",
    "logreg = LogisticRegression()\n",
    "logreg.fit(train_attributes, train_class_var)\n",
    "predictions = logreg.predict(test_attributes)\n",
    "cmatrix = pd.crosstab(test_class_var, predictions, rownames=['Actual'], colnames=['Predicted'])\n",
    "\n",
    "# Sometimes the model only predicts 1's, so we have calculations for each case\n",
    "if cmatrix.shape[1] == 2:\n",
    "    TN,TP,FN,FP = cmatrix.iloc[0, 0],cmatrix.iloc[1, 1],cmatrix.iloc[1, 0],cmatrix.iloc[0, 1]\n",
    "    errors = FN + FP\n",
    "    correct = TP + TN\n",
    "    total = TN + TP + FN + FP\n",
    "    print ('accuracy =',correct/total,': How many did we get correct?')\n",
    "    print ('precision =',TP/(TP+FP),': When we predict an increase, how often are we correct?')\n",
    "    print ('recall =',TP/(TP+FN),': How many of the increases did we \"detect\"?')\n",
    "else:\n",
    "    FP,TP = cmatrix.iloc[0, 0],cmatrix.iloc[1, 0]\n",
    "    errors = FP\n",
    "    correct = TP\n",
    "    total = TP + FP\n",
    "    print ('The model only predicted 1s')\n",
    "    print ('accuracy/precision =',correct/total)\n",
    "cmatrix"
   ]
  }
 ],
 "metadata": {
  "kernelspec": {
   "display_name": "Python 3",
   "language": "python",
   "name": "python3"
  },
  "language_info": {
   "codemirror_mode": {
    "name": "ipython",
    "version": 3
   },
   "file_extension": ".py",
   "mimetype": "text/x-python",
   "name": "python",
   "nbconvert_exporter": "python",
   "pygments_lexer": "ipython3",
   "version": "3.6.5"
  }
 },
 "nbformat": 4,
 "nbformat_minor": 2
}
