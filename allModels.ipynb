{
 "cells": [
  {
   "cell_type": "markdown",
   "metadata": {},
   "source": [
    "# All Models\n",
    "\n",
    "- This notebook contains all of the models we have developed. Each model will have it's own function.\n",
    "\n",
    "\n",
    "## Discussion and Findings\n",
    "\n",
    "Looking at the selected input dimensions, the neural network appears to perform better with fewer inputs. With more inputs it seems to get confused and less accurate. Whereas with few inputs, the linear models always predicts a class label of 1. With more inputs the logistic regression model predicts both 1s and 0s.\n",
    "\n",
    "### Algorithm Hyper-Parameters\n",
    "\n",
    "Here we will list the algorithm hyper-parameters that yield the best results for each algo\n",
    "\n",
    "#### Sequential NN\n",
    "\n",
    "\n",
    "#### Logistic Regression\n",
    "\n",
    "#### Perceptron \n",
    "\n",
    "#### Random Forest "
   ]
  },
  {
   "cell_type": "code",
   "execution_count": 20,
   "metadata": {},
   "outputs": [],
   "source": [
    "#required imports and dependencies\n",
    "\n",
    "import pandas as pd\n",
    "import numpy as np \n",
    "import warnings \n",
    "warnings.filterwarnings(\"ignore\")\n",
    "from sklearn import preprocessing\n",
    "from keras import Sequential\n",
    "from keras.layers import Embedding, Dense, Dropout\n",
    "from keras.metrics import *\n",
    "from sklearn.feature_selection import SelectKBest\n",
    "from sklearn.feature_selection import chi2\n",
    "from sklearn.linear_model import *\n",
    "from sklearn.ensemble import RandomForestClassifier\n",
    "\n",
    "\n",
    "\n",
    "#our own confusion matrix module that we developed\n",
    "import cmatrix as cm\n",
    "\n",
    "#load data into data frames\n",
    "xlsPath = r'C:\\Users\\Daniel Patrick\\Documents\\uniwork\\ada\\ada2\\final dataset.xlsx'\n",
    "data = pd.read_excel(xlsPath)\n",
    "\n",
    "#split into data and class variable\n",
    "X = data.drop(['date','symbol','price increase tomorrow?'], axis =1)\n",
    "class_var = data['price increase tomorrow?']\n",
    "\n",
    "### Comment/uncomment the below block to use Wavelet transform\n",
    "#import pywt\n",
    "#import statistics\n",
    "#for column in X:\n",
    "#    coeff = pywt.wavedec(X[column], \"haar\", level=10)\n",
    "#    sigma = statistics.median(coeff[-1])/0.6745\n",
    "#    threshold = sigma*np.sqrt(2*np.log(len(X[column])))\n",
    "#    coeff[1:] = (pywt.threshold(i, value=threshold) for i in coeff[1:])\n",
    "#    X[column] = pywt.waverec(coeff, \"haar\")\n",
    "\n",
    "#perform normalization on data \n",
    "min_max_scaler = preprocessing.MinMaxScaler()\n",
    "for column in X:\n",
    "    X[column] = min_max_scaler.fit_transform(X[column].values.reshape(-1,1))\n",
    "\n",
    "\n",
    "#select dimensions to reduce to \n",
    "inputDims = 14\n",
    "attributes = SelectKBest(chi2, k=inputDims).fit_transform(X,class_var)\n",
    "\n",
    "#Create a train test split\n",
    "split_number = round(len(data)*0.80)\n",
    "train_attributes,train_class_var,test_attributes,test_class_var = \\\n",
    "attributes[:split_number],class_var[:split_number], \\\n",
    "attributes[split_number:],class_var[split_number:]\n",
    "\n"
   ]
  },
  {
   "cell_type": "code",
   "execution_count": 16,
   "metadata": {},
   "outputs": [],
   "source": [
    "def sequentialNN(train_attributes,train_class_var,test_attributes,test_class_var):\n",
    "    \n",
    "    model = Sequential()\n",
    "    #The imput dim here is the number of cols \n",
    "    #in the df getting fed into the model\n",
    "    model.add(Dense(256, input_dim=inputDims, activation='relu'))\n",
    "    model.add(Dropout(0.5))\n",
    "    model.add(Dense(128, activation='relu'))\n",
    "    model.add(Dropout(0.5))\n",
    "    model.add(Dense(32, activation='relu'))\n",
    "    model.add(Dense(1, activation='sigmoid'))\n",
    "\n",
    "    model.compile(loss='binary_crossentropy',\n",
    "                  optimizer='rmsprop',\n",
    "                  metrics=['accuracy'])\n",
    "    \n",
    "    model.summary()\n",
    "\n",
    "    model.fit(train_attributes, train_class_var,\n",
    "             epochs=100, verbose=0, batch_size=128)\n",
    "\n",
    "    #the predict_classes method returns the \n",
    "    #binary variable we're looking for\n",
    "    #for some reason it doesn't output the \n",
    "    #correct array type, made a 2D array\n",
    "    pred = model.predict_classes(test_attributes)\n",
    "\n",
    "    #the flatten method solves this and \n",
    "    #squashes to a 1D array for evaluation\n",
    "    predictions = pred.flatten()\n",
    "\n",
    "    #be sure to import our cmatrix module\n",
    "    cmat = cm.cmatrix(test_class_var, predictions)\n",
    "    return cmat"
   ]
  },
  {
   "cell_type": "code",
   "execution_count": 19,
   "metadata": {},
   "outputs": [],
   "source": [
    "def logRegression(train_attributes,train_class_var,test_attributes,test_class_var):\n",
    "    \n",
    "    logreg = LogisticRegression()\n",
    "    logreg.fit(train_attributes, train_class_var)\n",
    "    predictions = logreg.predict(test_attributes)\n",
    "    \n",
    "    cmat = cm.cmatrix(test_class_var, predictions)\n",
    "    return cmat"
   ]
  },
  {
   "cell_type": "code",
   "execution_count": null,
   "metadata": {},
   "outputs": [],
   "source": [
    "def perceptron(train_attributes,train_class_var,test_attributes,test_class_var):\n",
    "    \n",
    "    perceptron = Perceptron()\n",
    "    perceptron.fit(train_attributes, train_class_var)\n",
    "    predictions = perceptron.predict(test_attributes)\n",
    "    \n",
    "    cmat = cm.cmatrix(test_class_var, predictions)\n",
    "    return cmat"
   ]
  },
  {
   "cell_type": "code",
   "execution_count": 22,
   "metadata": {},
   "outputs": [],
   "source": [
    "def randomForest(train_attributes,train_class_var,test_attributes,test_class_var):\n",
    "    \n",
    "    random_forest = RandomForestClassifier(n_estimators=20)\n",
    "    random_forest.fit(train_attributes, train_class_var)\n",
    "    predictions = random_forest.predict(test_attributes)\n",
    "    \n",
    "    cmat = cm.cmatrix(test_class_var, predictions)\n",
    "    return cmat"
   ]
  },
  {
   "cell_type": "code",
   "execution_count": 23,
   "metadata": {},
   "outputs": [
    {
     "name": "stdout",
     "output_type": "stream",
     "text": [
      "_________________________________________________________________\n",
      "Layer (type)                 Output Shape              Param #   \n",
      "=================================================================\n",
      "dense_37 (Dense)             (None, 256)               3840      \n",
      "_________________________________________________________________\n",
      "dropout_19 (Dropout)         (None, 256)               0         \n",
      "_________________________________________________________________\n",
      "dense_38 (Dense)             (None, 128)               32896     \n",
      "_________________________________________________________________\n",
      "dropout_20 (Dropout)         (None, 128)               0         \n",
      "_________________________________________________________________\n",
      "dense_39 (Dense)             (None, 32)                4128      \n",
      "_________________________________________________________________\n",
      "dense_40 (Dense)             (None, 1)                 33        \n",
      "=================================================================\n",
      "Total params: 40,897\n",
      "Trainable params: 40,897\n",
      "Non-trainable params: 0\n",
      "_________________________________________________________________\n",
      "accuracy = 0.5032051282051282 : How many did we get correct?\n",
      "precision = 0.504424778761062 : When we predict an increase, how often are we correct?\n",
      "recall = 0.7261146496815286 : How many of the increases did we \"detect\"?\n"
     ]
    },
    {
     "data": {
      "text/html": [
       "<div>\n",
       "<style scoped>\n",
       "    .dataframe tbody tr th:only-of-type {\n",
       "        vertical-align: middle;\n",
       "    }\n",
       "\n",
       "    .dataframe tbody tr th {\n",
       "        vertical-align: top;\n",
       "    }\n",
       "\n",
       "    .dataframe thead th {\n",
       "        text-align: right;\n",
       "    }\n",
       "</style>\n",
       "<table border=\"1\" class=\"dataframe\">\n",
       "  <thead>\n",
       "    <tr style=\"text-align: right;\">\n",
       "      <th>Predicted</th>\n",
       "      <th>0</th>\n",
       "      <th>1</th>\n",
       "    </tr>\n",
       "    <tr>\n",
       "      <th>Actual</th>\n",
       "      <th></th>\n",
       "      <th></th>\n",
       "    </tr>\n",
       "  </thead>\n",
       "  <tbody>\n",
       "    <tr>\n",
       "      <th>0</th>\n",
       "      <td>43</td>\n",
       "      <td>112</td>\n",
       "    </tr>\n",
       "    <tr>\n",
       "      <th>1</th>\n",
       "      <td>43</td>\n",
       "      <td>114</td>\n",
       "    </tr>\n",
       "  </tbody>\n",
       "</table>\n",
       "</div>"
      ],
      "text/plain": [
       "Predicted   0    1\n",
       "Actual            \n",
       "0          43  112\n",
       "1          43  114"
      ]
     },
     "execution_count": 23,
     "metadata": {},
     "output_type": "execute_result"
    }
   ],
   "source": [
    "sequentialNN(train_attributes,train_class_var,test_attributes,test_class_var)"
   ]
  },
  {
   "cell_type": "code",
   "execution_count": 23,
   "metadata": {},
   "outputs": [
    {
     "name": "stdout",
     "output_type": "stream",
     "text": [
      "accuracy = 0.4230769230769231 : How many did we get correct?\n",
      "precision = 0.42105263157894735 : When we predict an increase, how often are we correct?\n",
      "recall = 0.19047619047619047 : How many of the increases did we \"detect\"?\n"
     ]
    },
    {
     "data": {
      "text/html": [
       "<div>\n",
       "<style scoped>\n",
       "    .dataframe tbody tr th:only-of-type {\n",
       "        vertical-align: middle;\n",
       "    }\n",
       "\n",
       "    .dataframe tbody tr th {\n",
       "        vertical-align: top;\n",
       "    }\n",
       "\n",
       "    .dataframe thead th {\n",
       "        text-align: right;\n",
       "    }\n",
       "</style>\n",
       "<table border=\"1\" class=\"dataframe\">\n",
       "  <thead>\n",
       "    <tr style=\"text-align: right;\">\n",
       "      <th>Predicted</th>\n",
       "      <th>0</th>\n",
       "      <th>1</th>\n",
       "    </tr>\n",
       "    <tr>\n",
       "      <th>Actual</th>\n",
       "      <th></th>\n",
       "      <th></th>\n",
       "    </tr>\n",
       "  </thead>\n",
       "  <tbody>\n",
       "    <tr>\n",
       "      <th>0</th>\n",
       "      <td>25</td>\n",
       "      <td>11</td>\n",
       "    </tr>\n",
       "    <tr>\n",
       "      <th>1</th>\n",
       "      <td>34</td>\n",
       "      <td>8</td>\n",
       "    </tr>\n",
       "  </tbody>\n",
       "</table>\n",
       "</div>"
      ],
      "text/plain": [
       "Predicted   0   1\n",
       "Actual           \n",
       "0          25  11\n",
       "1          34   8"
      ]
     },
     "execution_count": 23,
     "metadata": {},
     "output_type": "execute_result"
    }
   ],
   "source": [
    "logRegression(train_attributes,train_class_var,test_attributes,test_class_var)"
   ]
  },
  {
   "cell_type": "code",
   "execution_count": null,
   "metadata": {},
   "outputs": [],
   "source": [
    "perceptron(train_attributes,train_class_var,test_attributes,test_class_var)"
   ]
  },
  {
   "cell_type": "code",
   "execution_count": 8,
   "metadata": {},
   "outputs": [
    {
     "name": "stdout",
     "output_type": "stream",
     "text": [
      "accuracy = 0.48187633262260127 : How many did we get correct?\n",
      "precision = 0.46835443037974683 : When we predict an increase, how often are we correct?\n",
      "recall = 0.4868421052631579 : How many of the increases did we \"detect\"?\n"
     ]
    },
    {
     "data": {
      "text/html": [
       "<div>\n",
       "<style scoped>\n",
       "    .dataframe tbody tr th:only-of-type {\n",
       "        vertical-align: middle;\n",
       "    }\n",
       "\n",
       "    .dataframe tbody tr th {\n",
       "        vertical-align: top;\n",
       "    }\n",
       "\n",
       "    .dataframe thead th {\n",
       "        text-align: right;\n",
       "    }\n",
       "</style>\n",
       "<table border=\"1\" class=\"dataframe\">\n",
       "  <thead>\n",
       "    <tr style=\"text-align: right;\">\n",
       "      <th>Predicted</th>\n",
       "      <th>0</th>\n",
       "      <th>1</th>\n",
       "    </tr>\n",
       "    <tr>\n",
       "      <th>Actual</th>\n",
       "      <th></th>\n",
       "      <th></th>\n",
       "    </tr>\n",
       "  </thead>\n",
       "  <tbody>\n",
       "    <tr>\n",
       "      <th>0</th>\n",
       "      <td>115</td>\n",
       "      <td>126</td>\n",
       "    </tr>\n",
       "    <tr>\n",
       "      <th>1</th>\n",
       "      <td>117</td>\n",
       "      <td>111</td>\n",
       "    </tr>\n",
       "  </tbody>\n",
       "</table>\n",
       "</div>"
      ],
      "text/plain": [
       "Predicted    0    1\n",
       "Actual             \n",
       "0          115  126\n",
       "1          117  111"
      ]
     },
     "execution_count": 8,
     "metadata": {},
     "output_type": "execute_result"
    }
   ],
   "source": [
    "randomForest(train_attributes,train_class_var,test_attributes,test_class_var)"
   ]
  },
  {
   "cell_type": "code",
   "execution_count": null,
   "metadata": {},
   "outputs": [],
   "source": []
  },
  {
   "cell_type": "code",
   "execution_count": null,
   "metadata": {},
   "outputs": [],
   "source": []
  }
 ],
 "metadata": {
  "kernelspec": {
   "display_name": "Python 3",
   "language": "python",
   "name": "python3"
  },
  "language_info": {
   "codemirror_mode": {
    "name": "ipython",
    "version": 3
   },
   "file_extension": ".py",
   "mimetype": "text/x-python",
   "name": "python",
   "nbconvert_exporter": "python",
   "pygments_lexer": "ipython3",
   "version": "3.6.5"
  }
 },
 "nbformat": 4,
 "nbformat_minor": 2
}
