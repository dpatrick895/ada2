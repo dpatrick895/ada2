{
 "cells": [
  {
   "cell_type": "code",
   "execution_count": 1,
   "metadata": {},
   "outputs": [],
   "source": [
    "import pandas as pd\n",
    "import numpy as np \n",
    "import warnings \n",
    "warnings.filterwarnings(\"ignore\")\n",
    "from sklearn import preprocessing\n",
    "\n",
    "#load data into dataframes\n",
    "xlsPath = r'C:\\Users\\New\\Desktop\\UniWork\\ADA\\ada2\\final dataset.xlsx'\n",
    "data = pd.read_excel(xlsPath)\n",
    "\n",
    "attributes = data[['close','volume','etf close','s&p500 close',\n",
    "                   '50 mda']]\n",
    "class_var = data['price increase tomorrow?']\n",
    "\n",
    "min_max_scaler = preprocessing.MinMaxScaler()\n",
    "for column in attributes:\n",
    "    attributes[column] = min_max_scaler.fit_transform(attributes[column].values.reshape(-1,1))\n",
    "\n",
    "### Modify the split_number to change the train/test split. Use the first 1406 (which is 0.9*1562) for a 10% split.\n",
    "split_number = 1406\n",
    "train_attributes,train_class_var,test_attributes,test_class_var = \\\n",
    "attributes[:split_number],class_var[:split_number], \\\n",
    "attributes[split_number:],class_var[split_number:]"
   ]
  },
  {
   "cell_type": "code",
   "execution_count": 2,
   "metadata": {},
   "outputs": [
    {
     "name": "stderr",
     "output_type": "stream",
     "text": [
      "Using TensorFlow backend.\n"
     ]
    },
    {
     "name": "stdout",
     "output_type": "stream",
     "text": [
      "_________________________________________________________________\n",
      "Layer (type)                 Output Shape              Param #   \n",
      "=================================================================\n",
      "dense_1 (Dense)              (None, 32)                192       \n",
      "_________________________________________________________________\n",
      "dropout_1 (Dropout)          (None, 32)                0         \n",
      "_________________________________________________________________\n",
      "dense_2 (Dense)              (None, 32)                1056      \n",
      "_________________________________________________________________\n",
      "dropout_2 (Dropout)          (None, 32)                0         \n",
      "_________________________________________________________________\n",
      "dense_3 (Dense)              (None, 1)                 33        \n",
      "=================================================================\n",
      "Total params: 1,281\n",
      "Trainable params: 1,281\n",
      "Non-trainable params: 0\n",
      "_________________________________________________________________\n"
     ]
    }
   ],
   "source": [
    "from keras import Sequential\n",
    "from keras.layers import Embedding, LSTM, Dense, Dropout\n",
    "from keras import metrics\n",
    "\n",
    "model = Sequential()\n",
    "model.add(Dense(32, input_dim=5, activation='relu'))\n",
    "model.add(Dropout(0.5))\n",
    "model.add(Dense(32, activation='relu'))\n",
    "model.add(Dropout(0.5))\n",
    "model.add(Dense(1, activation='sigmoid'))\n",
    "\n",
    "model.compile(loss='binary_crossentropy',\n",
    "              optimizer='rmsprop',\n",
    "              metrics=['accuracy'])\n",
    "\n",
    "\n",
    "model.summary()\n"
   ]
  },
  {
   "cell_type": "code",
   "execution_count": 3,
   "metadata": {
    "scrolled": false
   },
   "outputs": [
    {
     "name": "stdout",
     "output_type": "stream",
     "text": [
      "Epoch 1/10\n",
      "1406/1406 [==============================] - 0s 34us/step - loss: 0.6909 - acc: 0.5284\n",
      "Epoch 2/10\n",
      "1406/1406 [==============================] - 0s 33us/step - loss: 0.6914 - acc: 0.5398\n",
      "Epoch 3/10\n",
      "1406/1406 [==============================] - 0s 34us/step - loss: 0.6927 - acc: 0.5135\n",
      "Epoch 4/10\n",
      "1406/1406 [==============================] - 0s 35us/step - loss: 0.6920 - acc: 0.5235\n",
      "Epoch 5/10\n",
      "1406/1406 [==============================] - 0s 35us/step - loss: 0.6922 - acc: 0.5178\n",
      "Epoch 6/10\n",
      "1406/1406 [==============================] - 0s 35us/step - loss: 0.6929 - acc: 0.5228\n",
      "Epoch 7/10\n",
      "1406/1406 [==============================] - 0s 34us/step - loss: 0.6910 - acc: 0.5356\n",
      "Epoch 8/10\n",
      "1406/1406 [==============================] - 0s 34us/step - loss: 0.6920 - acc: 0.5192\n",
      "Epoch 9/10\n",
      "1406/1406 [==============================] - 0s 36us/step - loss: 0.6922 - acc: 0.5263\n",
      "Epoch 10/10\n",
      "1406/1406 [==============================] - 0s 35us/step - loss: 0.6926 - acc: 0.5213\n"
     ]
    }
   ],
   "source": [
    "a = model.fit(train_attributes, train_class_var,\n",
    "         epochs=100, verbose=0)\n",
    "\n",
    "a = model.fit(train_attributes, train_class_var,\n",
    "         epochs=10)\n"
   ]
  },
  {
   "cell_type": "code",
   "execution_count": 4,
   "metadata": {},
   "outputs": [
    {
     "name": "stdout",
     "output_type": "stream",
     "text": [
      "156/156 [==============================] - 0s 147us/step\n",
      "[0.6913636433772552, 0.55128205204621339]\n"
     ]
    }
   ],
   "source": [
    "score = model.evaluate(test_attributes,test_class_var)\n",
    "print(score)"
   ]
  },
  {
   "cell_type": "code",
   "execution_count": null,
   "metadata": {},
   "outputs": [],
   "source": []
  },
  {
   "cell_type": "code",
   "execution_count": null,
   "metadata": {},
   "outputs": [],
   "source": []
  },
  {
   "cell_type": "code",
   "execution_count": null,
   "metadata": {},
   "outputs": [],
   "source": []
  }
 ],
 "metadata": {
  "kernelspec": {
   "display_name": "Python 3",
   "language": "python",
   "name": "python3"
  },
  "language_info": {
   "codemirror_mode": {
    "name": "ipython",
    "version": 3
   },
   "file_extension": ".py",
   "mimetype": "text/x-python",
   "name": "python",
   "nbconvert_exporter": "python",
   "pygments_lexer": "ipython3",
   "version": "3.6.5"
  }
 },
 "nbformat": 4,
 "nbformat_minor": 2
}
